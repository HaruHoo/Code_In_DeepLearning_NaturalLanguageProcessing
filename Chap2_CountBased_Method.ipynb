{
 "cells": [
  {
   "cell_type": "markdown",
   "id": "7a36f740-5af5-4e76-991c-09bb688a20c8",
   "metadata": {},
   "source": [
    "2.3 基于技术的方法"
   ]
  },
  {
   "cell_type": "markdown",
   "id": "e80f138c-6cef-409d-86d4-92e308e3cb9f",
   "metadata": {},
   "source": [
    "基于Python的语料库预处理"
   ]
  },
  {
   "cell_type": "code",
   "execution_count": 86,
   "id": "e37e53fa-f6f2-44be-997e-7f523cda86c1",
   "metadata": {},
   "outputs": [
    {
     "name": "stdout",
     "output_type": "stream",
     "text": [
      "you say goodbye and i say hello .\n",
      "['you', 'say', 'goodbye', 'and', 'i', 'say', 'hello', '.']\n"
     ]
    }
   ],
   "source": [
    "text='You say goodbye and I say hello.'\n",
    "text=text.lower()   #lower函数实现将所有字母转为小写\n",
    "text=text.replace('.',' .')  #通过split切分句子\n",
    "print(text)\n",
    "words=text.split(' ')\n",
    "print(words)"
   ]
  },
  {
   "cell_type": "code",
   "execution_count": 73,
   "id": "8759c106-665b-4f53-8a67-5c783030d2f9",
   "metadata": {},
   "outputs": [
    {
     "name": "stdout",
     "output_type": "stream",
     "text": [
      "{'you': 0, 'say': 1, 'goodbye': 2, 'and': 3, 'i': 4, 'hello': 5, '.': 6}\n",
      "{0: 'you', 1: 'say', 2: 'goodbye', 3: 'and', 4: 'i', 5: 'hello', 6: '.'}\n",
      "say\n",
      "5\n"
     ]
    }
   ],
   "source": [
    "#s使用字典创建单词ID和单词对应表\n",
    "word_to_id={}\n",
    "id_to_word={}\n",
    "\n",
    "for word in words:\n",
    "    if word not in word_to_id:\n",
    "        new_id=len(word_to_id)\n",
    "        word_to_id[word]=new_id  #id号\n",
    "        id_to_word[new_id]=word    #单词\n",
    "print(word_to_id)\n",
    "print(id_to_word)\n",
    "\n",
    "print(id_to_word[1])\n",
    "print(word_to_id['hello'])"
   ]
  },
  {
   "cell_type": "code",
   "execution_count": 74,
   "id": "f2e56cb2-0115-4f9f-a603-2bdabcecab52",
   "metadata": {},
   "outputs": [
    {
     "name": "stdout",
     "output_type": "stream",
     "text": [
      "[0 1 2 3 4 1 5 6]\n"
     ]
    }
   ],
   "source": [
    "#将单词列表转为单词ID列表\n",
    "import numpy as np\n",
    "corpus=[word_to_id[w] for w in words]  #形式为列表解析式|字典解析式\n",
    "corpus=np.array(corpus)\n",
    "print(corpus)"
   ]
  },
  {
   "cell_type": "code",
   "execution_count": 118,
   "id": "1cfe3c6c-441d-46d2-88d2-b19d222a44af",
   "metadata": {},
   "outputs": [],
   "source": [
    "#封装为process()函数\n",
    "def process(text):\n",
    "    text=text.lower()\n",
    "    text=text.replace('.',' .')\n",
    "    words=text.split(' ')\n",
    "    \n",
    "    word_to_id={}\n",
    "    id_to_word={}\n",
    "    \n",
    "    for word in words:\n",
    "        if word not in word_to_id:\n",
    "            new_id=len(word_to_id)\n",
    "            word_to_id[word]=new_id\n",
    "            id_to_word[new_id]=word\n",
    "    \n",
    "    corpus=np.array([word_to_id[w] for w in words])\n",
    "    return corpus,word_to_id,id_to_word\n",
    "#corpus是单词ID列表，word_to_ID是单词到单词ID列表，ID_to_word是单词ID到单词列表"
   ]
  },
  {
   "cell_type": "code",
   "execution_count": 92,
   "id": "9682e9e6-8069-4c16-ac75-1d2c394cbdba",
   "metadata": {},
   "outputs": [
    {
     "name": "stdout",
     "output_type": "stream",
     "text": [
      "[0 1 2 3 4 1 5 6]\n",
      "{'you': 0, 'say': 1, 'goodbye': 2, 'and': 3, 'i': 4, 'hello': 5, '.': 6}\n",
      "{0: 'you', 1: 'say', 2: 'goodbye', 3: 'and', 4: 'i', 5: 'hello', 6: '.'}\n"
     ]
    }
   ],
   "source": [
    "text='You say goodbye and I say hello.'\n",
    "corpus,word_to_id,id_to_word=process(text)\n",
    "print(corpus)\n",
    "print(word_to_id)\n",
    "print(id_to_word)"
   ]
  },
  {
   "cell_type": "markdown",
   "id": "1121e753-3fb4-4228-bcac-144a1c1ce83a",
   "metadata": {},
   "source": [
    "共现矩阵的实现"
   ]
  },
  {
   "cell_type": "code",
   "execution_count": 77,
   "id": "3a2df2e9-f9ac-4b5b-8d8e-6b71eaa1dc69",
   "metadata": {},
   "outputs": [],
   "source": [
    "import numpy as np\n",
    "def create_co_matrix(corpus,vacb_size,window_size=1):\n",
    "    corpus_size=len(corpus)\n",
    "    co_matrix=np.zeros((vacb_size,vacb_size),dtype=np.int32)\n",
    "    \n",
    "    for idx,word_id in enumerate(corpus):#enumerate() 函数用于将一个可遍历的数据对象(如列表、元组或字符串)组合为一个索引序列，同时列出数据和数据下标，一般用在 for 循环当中。\n",
    "        for i in range(1,window_size+1):  #遍历某个单词左右两侧滑动窗口内的单词情况\n",
    "            left_idx=idx-i  #某个单词左侧的索引位置\n",
    "            right_idx=idx+i #某个单词右边的索引位置\n",
    "            \n",
    "            if left_idx>=0:\n",
    "                left_word_id=corpus[left_idx]   #此时滑动窗口左侧元素的ID\n",
    "                co_matrix[word_id,left_word_id]+=1   #此时共现矩阵对应位置的值变为1\n",
    "            \n",
    "            if right_idx<corpus_size:\n",
    "                right_word_id=corpus[right_idx]\n",
    "                co_matrix[word_id,right_word_id]+=1\n",
    "        \n",
    "    return co_matrix"
   ]
  },
  {
   "cell_type": "code",
   "execution_count": 78,
   "id": "1d330f66-513c-4cc7-b778-b8cd8693c8cc",
   "metadata": {},
   "outputs": [
    {
     "name": "stdout",
     "output_type": "stream",
     "text": [
      "[[0 1 0 0 0 0 0]\n",
      " [1 0 1 0 1 1 0]\n",
      " [0 1 0 1 0 0 0]\n",
      " [0 0 1 0 1 0 0]\n",
      " [0 1 0 1 0 0 0]\n",
      " [0 1 0 0 0 0 1]\n",
      " [0 0 0 0 0 1 0]]\n"
     ]
    }
   ],
   "source": [
    "print(create_co_matrix(corpus,len(corpus)-1,window_size=1))"
   ]
  },
  {
   "cell_type": "markdown",
   "id": "d758a298-fcfb-4c2f-90da-912c74bd7860",
   "metadata": {},
   "source": [
    "余弦相似度的实现"
   ]
  },
  {
   "cell_type": "code",
   "execution_count": 119,
   "id": "6c4232e7-08c0-435a-a307-8f9c615b3456",
   "metadata": {},
   "outputs": [],
   "source": [
    "def cos_similarity(x,y,eps=1e-8):\n",
    "    nx=x/(np.sqrt(np.sum(x**2))+eps)\n",
    "    ny=y/(np.sqrt(np.sum(y**2))+eps)\n",
    "    return np.dot(nx,ny)"
   ]
  },
  {
   "cell_type": "code",
   "execution_count": 120,
   "id": "0e1ce354-9226-4c65-8019-fdbd1caac0b0",
   "metadata": {},
   "outputs": [
    {
     "name": "stdout",
     "output_type": "stream",
     "text": [
      "0.7071067691154799\n"
     ]
    }
   ],
   "source": [
    "C=create_co_matrix(corpus,len(corpus)-1)\n",
    "C0=C[word_to_id['you']]\n",
    "C1=C[word_to_id['i']]\n",
    "print(cos_similarity(C0,C1))"
   ]
  },
  {
   "cell_type": "markdown",
   "id": "b0612233-9a6e-4377-873a-7f0dc78d4a8b",
   "metadata": {},
   "source": [
    "相似单词的排序"
   ]
  },
  {
   "cell_type": "code",
   "execution_count": 121,
   "id": "fa1310ac-5988-4f68-b860-b66e1aa580dd",
   "metadata": {},
   "outputs": [],
   "source": [
    "def most_similar(query,word_to_id,id_to_word,cos_matrix,top=5):#输出与某个单词最相似的单词和余弦相似度\n",
    "    #取出查询词\n",
    "    if query not in word_to_id:\n",
    "        print('%s is not found!',query)\n",
    "        return \n",
    "    print('\\n[query] '+query)\n",
    "    query_id=word_to_id[query]\n",
    "    query_vec=cos_matrix[query_id]\n",
    "    \n",
    "    #计算余弦相似度\n",
    "    vocab_size=len(id_to_word)\n",
    "    similarity=np.zeros(vocab_size)\n",
    "    for i in range(vocab_size):\n",
    "        similarity[i]=cos_similarity(cos_matrix[i],query_vec)\n",
    "    \n",
    "    #基于余弦相似度，按降序输出值\n",
    "    count=0\n",
    "    for i in (-1*similarity).argsort():  #argsort()返回的是数组的索引\n",
    "        if id_to_word[i]==query:\n",
    "            continue\n",
    "        print(' %s: %s' %(id_to_word[i],similarity[i]))\n",
    "        \n",
    "        count+=1\n",
    "        if count>=top:\n",
    "            return"
   ]
  },
  {
   "cell_type": "code",
   "execution_count": 122,
   "id": "3b71f7d9-9015-47fb-8195-9a478d4c801d",
   "metadata": {},
   "outputs": [
    {
     "name": "stdout",
     "output_type": "stream",
     "text": [
      "\n",
      "[query] you\n",
      " goodbye: 0.7071067691154799\n",
      " i: 0.7071067691154799\n",
      " hello: 0.7071067691154799\n",
      " say: 0.0\n",
      " and: 0.0\n",
      "None\n"
     ]
    }
   ],
   "source": [
    "vocab_size=len(word_to_id)\n",
    "#print(vocab_size)\n",
    "C=create_co_matrix(corpus,vocab_size)\n",
    "#print(C)\n",
    "print(most_similar('you',word_to_id,id_to_word,C,top=5))"
   ]
  },
  {
   "cell_type": "markdown",
   "id": "fc25fe15-adc4-4e68-b3a7-71a2cec9aa98",
   "metadata": {},
   "source": [
    "将共现矩阵转为PPMI"
   ]
  },
  {
   "cell_type": "code",
   "execution_count": 123,
   "id": "2d431e4d-02ca-464b-b5f7-22b41f41b896",
   "metadata": {},
   "outputs": [],
   "source": [
    "import numpy as np\n",
    "def PPMI(C,verbose=False,eps=1e-8):  #verbose是决定是否输出运行情况的标志,为了防止np.log2(0)=-inf使用了微小值eps\n",
    "    M=np.zeros_like(C,dtype=np.float32)  #M矩阵是PPMI最后得出的矩阵\n",
    "    N=np.sum(C)   #转为一维数组\n",
    "    S=np.sum(C,axis=0)\n",
    "    total=C.shape[0]*C.shape[1]   #C.shape[0]=7,C.shape[1]=7\n",
    "    cnt=0\n",
    "    \n",
    "    for i in range(C.shape[0]):\n",
    "        for j in range(C.shape[1]):   #遍历原矩阵，计算每个元素对应位置的PPMI矩阵元素的值\n",
    "            pmi=np.log2(C[i,j]*N/(S[i]*S[j])+eps)\n",
    "            M[i,j]=max(0,pmi)\n",
    "            \n",
    "            if verbose:\n",
    "                cnt+=1\n",
    "                if cnt%(total//100+1)==0:\n",
    "                    print('%.1f%% done' %(100*cnt/total))\n",
    "    return M"
   ]
  },
  {
   "cell_type": "code",
   "execution_count": 124,
   "id": "993a86f8-e993-406a-8d4e-f1a9e966cf59",
   "metadata": {},
   "outputs": [
    {
     "name": "stdout",
     "output_type": "stream",
     "text": [
      "The covariance matrix is:\n",
      "[[0 1 0 0 0 0 0]\n",
      " [1 0 1 0 1 1 0]\n",
      " [0 1 0 1 0 0 0]\n",
      " [0 0 1 0 1 0 0]\n",
      " [0 1 0 1 0 0 0]\n",
      " [0 1 0 0 0 0 1]\n",
      " [0 0 0 0 0 1 0]]\n",
      "######################################################################################\n",
      "The PPMI matrix is:\n",
      "[[0.        1.8073549 0.        0.        0.        0.        0.       ]\n",
      " [1.8073549 0.        0.8073549 0.        0.8073549 0.8073549 0.       ]\n",
      " [0.        0.8073549 0.        1.8073549 0.        0.        0.       ]\n",
      " [0.        0.        1.8073549 0.        1.8073549 0.        0.       ]\n",
      " [0.        0.8073549 0.        1.8073549 0.        0.        0.       ]\n",
      " [0.        0.8073549 0.        0.        0.        0.        2.807355 ]\n",
      " [0.        0.        0.        0.        0.        2.807355  0.       ]]\n"
     ]
    }
   ],
   "source": [
    "W=PPMI(C)\n",
    "print(\"The covariance matrix is:\")\n",
    "print(C)\n",
    "print(\"######################################################################################\")\n",
    "print(\"The PPMI matrix is:\")\n",
    "print(W)"
   ]
  },
  {
   "cell_type": "markdown",
   "id": "722f9f2f-a463-4398-a30d-b21be279f964",
   "metadata": {},
   "source": [
    "2.4 降维（找轴）"
   ]
  },
  {
   "cell_type": "markdown",
   "id": "b27d5989-58ae-4ce0-a52d-3c0bfd018206",
   "metadata": {},
   "source": [
    "奇异值分解SVD"
   ]
  },
  {
   "cell_type": "code",
   "execution_count": 113,
   "id": "12426cc7-4a08-4748-b4d7-4bd4a77ba83e",
   "metadata": {},
   "outputs": [],
   "source": [
    "#直接使用numpy中的linalg模块中的svd方法进行转换\n",
    "U,S,V = np.linalg.svd(W)"
   ]
  },
  {
   "cell_type": "code",
   "execution_count": 114,
   "id": "f2ae1f07-0a5d-43e3-9cea-e266d0e3854c",
   "metadata": {},
   "outputs": [
    {
     "name": "stdout",
     "output_type": "stream",
     "text": [
      "[0 1 0 0 0 0 0]\n",
      "[0.        1.8073549 0.        0.        0.        0.        0.       ]\n",
      "[ 3.4094876e-01  0.0000000e+00 -1.2051624e-01 -3.3306691e-16\n",
      " -9.3232495e-01 -1.1102230e-16 -2.4257469e-17]\n"
     ]
    }
   ],
   "source": [
    "print(C[0])\n",
    "print(W[0])\n",
    "print(U[0])"
   ]
  },
  {
   "cell_type": "code",
   "execution_count": 115,
   "id": "56c6e085-6472-4319-a5dd-8bc811df4025",
   "metadata": {},
   "outputs": [
    {
     "name": "stdout",
     "output_type": "stream",
     "text": [
      "[0.34094876 0.        ]\n"
     ]
    }
   ],
   "source": [
    "#通过SVD将稀疏矩阵转为密集型矩阵，若对密集型矩阵降维，则只需降维到二维向量，取出前两个元素\n",
    "print(U[0, :2])"
   ]
  },
  {
   "cell_type": "code",
   "execution_count": 117,
   "id": "15dc901e-ae8c-41e2-9aac-f4294bfcbf95",
   "metadata": {},
   "outputs": [
    {
     "data": {
      "image/png": "[encoded data removed]",
      "text/plain": [
       "<Figure size 640x480 with 1 Axes>"
      ]
     },
     "metadata": {},
     "output_type": "display_data"
    }
   ],
   "source": [
    "#用二维向量表示各个单词，画图\n",
    "import matplotlib.pyplot as plt\n",
    "for word,word_id in word_to_id.items():\n",
    "    plt.annotate(word,(U[word_id,0],U[word_id,1]))  #annotate用于标注文字\n",
    "plt.scatter(U[:,0],U[:,1],alpha=0.5)\n",
    "plt.show()"
   ]
  }
 ],
 "metadata": {
  "kernelspec": {
   "display_name": "PyTorch-1.8",
   "language": "python",
   "name": "pytorch-1.8"
  },
  "language_info": {
   "codemirror_mode": {
    "name": "ipython",
    "version": 3
   },
   "file_extension": ".py",
   "mimetype": "text/x-python",
   "name": "python",
   "nbconvert_exporter": "python",
   "pygments_lexer": "ipython3",
   "version": "3.7.10"
  }
 },
 "nbformat": 4,
 "nbformat_minor": 5
}
